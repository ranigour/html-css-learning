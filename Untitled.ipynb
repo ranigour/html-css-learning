{
 "cells": [
  {
   "cell_type": "code",
   "execution_count": 1,
   "id": "54148754-d75e-45ec-8f6e-5c2ab8a939ac",
   "metadata": {},
   "outputs": [
    {
     "name": "stdout",
     "output_type": "stream",
     "text": [
      "hello\n"
     ]
    }
   ],
   "source": [
    "print(\"hello\")"
   ]
  },
  {
   "cell_type": "code",
   "execution_count": null,
   "id": "bdc2861f",
   "metadata": {},
   "outputs": [],
   "source": [
    "i=1\n",
    "n=int(input(\"enter the num\"))\n",
    "fact=1\n",
    "sum_fact=0\n",
    "while(i<n):\n",
    "    fact=fact*1\n",
    "    sum_fact=sum_fact+fact\n",
    "    i+=1\n",
    "    print(\"fact of a num\",fact)\n",
    "    print(\"sum of fact=\",sum_fact)"
   ]
  }
 ],
 "metadata": {
  "kernelspec": {
   "display_name": "Python 3",
   "language": "python",
   "name": "python3"
  },
  "language_info": {
   "codemirror_mode": {
    "name": "ipython",
    "version": 3
   },
   "file_extension": ".py",
   "mimetype": "text/x-python",
   "name": "python",
   "nbconvert_exporter": "python",
   "pygments_lexer": "ipython3",
   "version": "3.11.9"
  }
 },
 "nbformat": 4,
 "nbformat_minor": 5
}
